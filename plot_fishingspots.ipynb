{
 "cells": [
  {
   "cell_type": "code",
   "execution_count": 110,
   "metadata": {},
   "outputs": [],
   "source": [
    "import pandas as pd\n",
    "import csv\n",
    "import re"
   ]
  },
  {
   "cell_type": "markdown",
   "metadata": {},
   "source": [
    "# Function Declarations \n",
    "  \n",
    "  \n",
    "### TODOs\n",
    "- Automate the BigQuery Load Job"
   ]
  },
  {
   "cell_type": "code",
   "execution_count": 111,
   "metadata": {},
   "outputs": [],
   "source": [
    "def bq_load_job():\n",
    "    pass\n",
    "\n",
    "def parse_text_file(csv_filename, file_path):\n",
    "    \"\"\"\n",
    "    Creates a CSV file and parses a text file line-by-line and inserts in comma separated format.\n",
    "    This function assumes that values are separated by spaces.\n",
    "\n",
    "    Args:\n",
    "    - csv_filename: path to csv file (string)\n",
    "    - file_path: text file to parse (string)\n",
    "    \"\"\"\n",
    "    csv_file = open(csv_filename, 'w')\n",
    "    csv_writer = csv.writer(csv_file, delimiter=\",\")\n",
    "\n",
    "    with open(file_path) as txt_file:\n",
    "        for line in txt_file:\n",
    "            csv_writer.writerow(line.split())\n",
    "        csv_file.close()\n",
    "\n",
    "\n",
    "def dms_to_dd(dms):\n",
    "    \"\"\"\n",
    "    Converts DMS (Degrees Minutes Seconds) coordinates separated by \".\" and converts it into DD (decimal Degress) format.\n",
    "\n",
    "    Args:\n",
    "    - DMS formatted coordinate (string)\n",
    "    \"\"\"\n",
    "    # create list by splitting at \".\" \n",
    "    parts = re.split('[\\.\"]+', dms) \n",
    "    degrees = parts[0]\n",
    "    minutes = parts[1]\n",
    "    seconds = parts[2]\n",
    "    dd = float(degrees) + float(minutes)/60 + float(seconds)/36000\n",
    "    return dd\n",
    "\n",
    "\n",
    "def dd_to_dms(deg):\n",
    "    \"\"\"\n",
    "    Converts DD (decimal Degress) into DMS (Degree Minutes Seconds) coordinates format.\n",
    "\n",
    "    Args:\n",
    "    - DD formatted coordinate (float)\n",
    "    \"\"\"\n",
    "    d = int(deg)\n",
    "    md = abs(deg - d) * 60\n",
    "    m = int(md)\n",
    "    sd = (md - m) * 60\n",
    "    return [d, m, sd]\n",
    "\n",
    "\n",
    "def dms_to_dd_dir(dms):\n",
    "    \"\"\"\n",
    "    Converts DMS (Degree Minutes Seconds) coordinates separated by \".\" and converts it into DD (decimal Degress) format.\n",
    "    Supports direction.\n",
    "\n",
    "    Args:\n",
    "    - DMS formatted coordinate (string)\n",
    "    \"\"\"\n",
    "    parts = re.split('[^\\d\\w]+', dms)\n",
    "    degrees = parts[0]\n",
    "    minutes = parts[1]\n",
    "    seconds = parts[2]\n",
    "    direction = parts[3]\n",
    "    dd = float(degrees) + float(minutes)/60 + float(seconds)/(60*60)\n",
    "    if direction == 'S' or direction == 'W':\n",
    "        dd *= -1\n",
    "    return dd\n",
    "\n",
    "\n",
    "def dd_to_dms_dir(deg):\n",
    "    \"\"\"\n",
    "    Converts DD (decimal Degress) into DMS (Degree Minutes Seconds) coordinates format. \n",
    "    Supports direction.\n",
    "\n",
    "    Args:\n",
    "    - DD formatted coordinate (float)\n",
    "    \"\"\"\n",
    "    d = int(deg)\n",
    "    md = abs(deg - d) * 60\n",
    "    m = int(md)\n",
    "    sd = (md - m) * 60\n",
    "    return [d, m, sd]"
   ]
  },
  {
   "cell_type": "markdown",
   "metadata": {},
   "source": [
    "# Read Files"
   ]
  },
  {
   "cell_type": "code",
   "execution_count": 112,
   "metadata": {},
   "outputs": [],
   "source": [
    "parse_text_file('./output/fishdata_dms.csv', './input/unformatted_data.txt')"
   ]
  },
  {
   "cell_type": "code",
   "execution_count": 113,
   "metadata": {},
   "outputs": [],
   "source": [
    "df = pd.read_csv('./output/fishdata_dms.csv', delimiter=\",\")\n",
    "df_dir = pd.read_csv('./input/mixed_locs_dir.csv', delimiter=\",\")\n",
    "df_ts = pd.read_csv('./input/teamsvinet.csv', delimiter=\",\")"
   ]
  },
  {
   "cell_type": "markdown",
   "metadata": {},
   "source": [
    "# Data Preparation"
   ]
  },
  {
   "cell_type": "code",
   "execution_count": 114,
   "metadata": {},
   "outputs": [],
   "source": [
    "df['Fish_type'] = df['Fish_type'].str.replace('_', ' ')\n",
    "df['Location_name'] = df['Location_name'].str.replace('_', ' ')\n",
    "df = df.append(df_ts)"
   ]
  },
  {
   "cell_type": "code",
   "execution_count": 115,
   "metadata": {},
   "outputs": [
    {
     "output_type": "execute_result",
     "data": {
      "text/plain": "            Fish_type   Location_name   latitude  longitude\n0       Bornholm Laks         31’eren  55.408333  14.986111\n1       Bornholm Laks     Anders Sten  55.572222  15.150000\n2       Bornholm Laks    Davids Banke  55.366667  14.683333\n3       Bornholm Laks     Don’s Knold  55.444444  14.902778\n4       Bornholm Laks  Gravstenen øst  55.483333  14.925000\n..                ...             ...        ...        ...\n22    Torsk 20kg 2007    Allangstaran  70.589472  20.545111\n23  Helleflynder 2007    Allangstaran  70.589278  20.562639\n24  Helleflynder 2007    Allangstaran  70.597278  20.560611\n25  Helleflynder 2007    Allangstaran  70.602889  20.546944\n26  Helleflynder 2007    Allangstaran  70.595278  20.567250\n\n[430 rows x 4 columns]",
      "text/html": "<div>\n<style scoped>\n    .dataframe tbody tr th:only-of-type {\n        vertical-align: middle;\n    }\n\n    .dataframe tbody tr th {\n        vertical-align: top;\n    }\n\n    .dataframe thead th {\n        text-align: right;\n    }\n</style>\n<table border=\"1\" class=\"dataframe\">\n  <thead>\n    <tr style=\"text-align: right;\">\n      <th></th>\n      <th>Fish_type</th>\n      <th>Location_name</th>\n      <th>latitude</th>\n      <th>longitude</th>\n    </tr>\n  </thead>\n  <tbody>\n    <tr>\n      <th>0</th>\n      <td>Bornholm Laks</td>\n      <td>31’eren</td>\n      <td>55.408333</td>\n      <td>14.986111</td>\n    </tr>\n    <tr>\n      <th>1</th>\n      <td>Bornholm Laks</td>\n      <td>Anders Sten</td>\n      <td>55.572222</td>\n      <td>15.150000</td>\n    </tr>\n    <tr>\n      <th>2</th>\n      <td>Bornholm Laks</td>\n      <td>Davids Banke</td>\n      <td>55.366667</td>\n      <td>14.683333</td>\n    </tr>\n    <tr>\n      <th>3</th>\n      <td>Bornholm Laks</td>\n      <td>Don’s Knold</td>\n      <td>55.444444</td>\n      <td>14.902778</td>\n    </tr>\n    <tr>\n      <th>4</th>\n      <td>Bornholm Laks</td>\n      <td>Gravstenen øst</td>\n      <td>55.483333</td>\n      <td>14.925000</td>\n    </tr>\n    <tr>\n      <th>...</th>\n      <td>...</td>\n      <td>...</td>\n      <td>...</td>\n      <td>...</td>\n    </tr>\n    <tr>\n      <th>22</th>\n      <td>Torsk 20kg 2007</td>\n      <td>Allangstaran</td>\n      <td>70.589472</td>\n      <td>20.545111</td>\n    </tr>\n    <tr>\n      <th>23</th>\n      <td>Helleflynder 2007</td>\n      <td>Allangstaran</td>\n      <td>70.589278</td>\n      <td>20.562639</td>\n    </tr>\n    <tr>\n      <th>24</th>\n      <td>Helleflynder 2007</td>\n      <td>Allangstaran</td>\n      <td>70.597278</td>\n      <td>20.560611</td>\n    </tr>\n    <tr>\n      <th>25</th>\n      <td>Helleflynder 2007</td>\n      <td>Allangstaran</td>\n      <td>70.602889</td>\n      <td>20.546944</td>\n    </tr>\n    <tr>\n      <th>26</th>\n      <td>Helleflynder 2007</td>\n      <td>Allangstaran</td>\n      <td>70.595278</td>\n      <td>20.567250</td>\n    </tr>\n  </tbody>\n</table>\n<p>430 rows × 4 columns</p>\n</div>"
     },
     "metadata": {},
     "execution_count": 115
    }
   ],
   "source": [
    "df['latitude'] = df['latitude'].apply(lambda x: dms_to_dd(x))\n",
    "df['longitude'] = df['longitude'].apply(lambda x: dms_to_dd(x))\n",
    "df"
   ]
  },
  {
   "cell_type": "code",
   "execution_count": 116,
   "metadata": {},
   "outputs": [
    {
     "output_type": "execute_result",
     "data": {
      "text/plain": "   Fish_type                                      Location_name     latitude  \\\n0    unknown                                   S/S Hugo Stinnes  56°22’203 N   \n1    unknown                         Lille vrag NV Hugo Stinnes  56°22’779 N   \n2    unknown                 Stenpolle med rester af et flyvrag  56°19’319 N   \n3    unknown                                            Stentop  56°21’690 N   \n4    unknown                                            Stendys  56°22’200 N   \n5    unknown                           Ballaststen fra sejlskib  56°23’150 N   \n6    unknown                                        Hummer sten  56°27’362 N   \n7    unknown                          Brostensvrag norsk Glitne  56°27’860 N   \n8    unknown                                  Jernpram med spil  56°28’110 N   \n9    unknown  Verdens største flydekran da den sank lige eft...  56°27’730 N   \n10   unknown                           Fragtskib Helene B Schub  56°24’260 N   \n11   unknown                                   Vrag af dampskib  56°20’950 N   \n12   unknown                                   Dampskib Sorento  56°21’210 N   \n13   unknown                         Stor coaster med bund opad  56°19’455 N   \n14   unknown                                    Dampskib Hermod  56°40’459 N   \n15   unknown                                        Råjernsvrag  56°37’981 N   \n16   unknown                                        Ukendt vrag  56°12’180 N   \n17   unknown                                        Ukendt hold  56°15’361 N   \n18   unknown                                        Ukendt hold  56°16’041 N   \n\n       longitude  \n0   008°04’353 E  \n1   008°03’808 E  \n2   007°57’026 E  \n3   007°57’650 E  \n4   007°54’079 E  \n5   007°45’554 E  \n6   007°51’253 E  \n7   007°59’630 E  \n8   007°22’440 E  \n9   007°02’640 E  \n10  007°06’030 E  \n11  007°08’910 E  \n12  007°17’370 E  \n13  007°18’002 E  \n14  007°28’358 E  \n15  007°34’426 E  \n16  007°59’390 E  \n17  007°58’306 E  \n18  007°57’906 E  ",
      "text/html": "<div>\n<style scoped>\n    .dataframe tbody tr th:only-of-type {\n        vertical-align: middle;\n    }\n\n    .dataframe tbody tr th {\n        vertical-align: top;\n    }\n\n    .dataframe thead th {\n        text-align: right;\n    }\n</style>\n<table border=\"1\" class=\"dataframe\">\n  <thead>\n    <tr style=\"text-align: right;\">\n      <th></th>\n      <th>Fish_type</th>\n      <th>Location_name</th>\n      <th>latitude</th>\n      <th>longitude</th>\n    </tr>\n  </thead>\n  <tbody>\n    <tr>\n      <th>0</th>\n      <td>unknown</td>\n      <td>S/S Hugo Stinnes</td>\n      <td>56°22’203 N</td>\n      <td>008°04’353 E</td>\n    </tr>\n    <tr>\n      <th>1</th>\n      <td>unknown</td>\n      <td>Lille vrag NV Hugo Stinnes</td>\n      <td>56°22’779 N</td>\n      <td>008°03’808 E</td>\n    </tr>\n    <tr>\n      <th>2</th>\n      <td>unknown</td>\n      <td>Stenpolle med rester af et flyvrag</td>\n      <td>56°19’319 N</td>\n      <td>007°57’026 E</td>\n    </tr>\n    <tr>\n      <th>3</th>\n      <td>unknown</td>\n      <td>Stentop</td>\n      <td>56°21’690 N</td>\n      <td>007°57’650 E</td>\n    </tr>\n    <tr>\n      <th>4</th>\n      <td>unknown</td>\n      <td>Stendys</td>\n      <td>56°22’200 N</td>\n      <td>007°54’079 E</td>\n    </tr>\n    <tr>\n      <th>5</th>\n      <td>unknown</td>\n      <td>Ballaststen fra sejlskib</td>\n      <td>56°23’150 N</td>\n      <td>007°45’554 E</td>\n    </tr>\n    <tr>\n      <th>6</th>\n      <td>unknown</td>\n      <td>Hummer sten</td>\n      <td>56°27’362 N</td>\n      <td>007°51’253 E</td>\n    </tr>\n    <tr>\n      <th>7</th>\n      <td>unknown</td>\n      <td>Brostensvrag norsk Glitne</td>\n      <td>56°27’860 N</td>\n      <td>007°59’630 E</td>\n    </tr>\n    <tr>\n      <th>8</th>\n      <td>unknown</td>\n      <td>Jernpram med spil</td>\n      <td>56°28’110 N</td>\n      <td>007°22’440 E</td>\n    </tr>\n    <tr>\n      <th>9</th>\n      <td>unknown</td>\n      <td>Verdens største flydekran da den sank lige eft...</td>\n      <td>56°27’730 N</td>\n      <td>007°02’640 E</td>\n    </tr>\n    <tr>\n      <th>10</th>\n      <td>unknown</td>\n      <td>Fragtskib Helene B Schub</td>\n      <td>56°24’260 N</td>\n      <td>007°06’030 E</td>\n    </tr>\n    <tr>\n      <th>11</th>\n      <td>unknown</td>\n      <td>Vrag af dampskib</td>\n      <td>56°20’950 N</td>\n      <td>007°08’910 E</td>\n    </tr>\n    <tr>\n      <th>12</th>\n      <td>unknown</td>\n      <td>Dampskib Sorento</td>\n      <td>56°21’210 N</td>\n      <td>007°17’370 E</td>\n    </tr>\n    <tr>\n      <th>13</th>\n      <td>unknown</td>\n      <td>Stor coaster med bund opad</td>\n      <td>56°19’455 N</td>\n      <td>007°18’002 E</td>\n    </tr>\n    <tr>\n      <th>14</th>\n      <td>unknown</td>\n      <td>Dampskib Hermod</td>\n      <td>56°40’459 N</td>\n      <td>007°28’358 E</td>\n    </tr>\n    <tr>\n      <th>15</th>\n      <td>unknown</td>\n      <td>Råjernsvrag</td>\n      <td>56°37’981 N</td>\n      <td>007°34’426 E</td>\n    </tr>\n    <tr>\n      <th>16</th>\n      <td>unknown</td>\n      <td>Ukendt vrag</td>\n      <td>56°12’180 N</td>\n      <td>007°59’390 E</td>\n    </tr>\n    <tr>\n      <th>17</th>\n      <td>unknown</td>\n      <td>Ukendt hold</td>\n      <td>56°15’361 N</td>\n      <td>007°58’306 E</td>\n    </tr>\n    <tr>\n      <th>18</th>\n      <td>unknown</td>\n      <td>Ukendt hold</td>\n      <td>56°16’041 N</td>\n      <td>007°57’906 E</td>\n    </tr>\n  </tbody>\n</table>\n</div>"
     },
     "metadata": {},
     "execution_count": 116
    }
   ],
   "source": [
    "df_dir['Fish_type'] = df_dir['Fish_type'].str.replace('_', ' ')\n",
    "df_dir['Location_name'] = df_dir['Location_name'].str.replace('_', ' ')\n",
    "df_dir"
   ]
  },
  {
   "cell_type": "code",
   "execution_count": 117,
   "metadata": {},
   "outputs": [
    {
     "output_type": "execute_result",
     "data": {
      "text/plain": "   Fish_type                                      Location_name   latitude  \\\n0    unknown                                   S/S Hugo Stinnes  56.423056   \n1    unknown                         Lille vrag NV Hugo Stinnes  56.583056   \n2    unknown                 Stenpolle med rester af et flyvrag  56.405278   \n3    unknown                                            Stentop  56.541667   \n4    unknown                                            Stendys  56.422222   \n5    unknown                           Ballaststen fra sejlskib  56.425000   \n6    unknown                                        Hummer sten  56.550556   \n7    unknown                          Brostensvrag norsk Glitne  56.688889   \n8    unknown                                  Jernpram med spil  56.497222   \n9    unknown  Verdens største flydekran da den sank lige eft...  56.652778   \n10   unknown                           Fragtskib Helene B Schub  56.472222   \n11   unknown                                   Vrag af dampskib  56.597222   \n12   unknown                                   Dampskib Sorento  56.408333   \n13   unknown                         Stor coaster med bund opad  56.443056   \n14   unknown                                    Dampskib Hermod  56.794167   \n15   unknown                                        Råjernsvrag  56.889167   \n16   unknown                                        Ukendt vrag  56.250000   \n17   unknown                                        Ukendt hold  56.350278   \n18   unknown                                        Ukendt hold  56.278056   \n\n    longitude  \n0    8.164722  \n1    8.274444  \n2    7.957222  \n3    8.130556  \n4    7.921944  \n5    7.903889  \n6    7.920278  \n7    8.158333  \n8    7.488889  \n9    7.211111  \n10   7.108333  \n11   7.386111  \n12   7.386111  \n13   7.300556  \n14   7.566111  \n15   7.685000  \n16   8.091667  \n17   8.051667  \n18   8.201667  ",
      "text/html": "<div>\n<style scoped>\n    .dataframe tbody tr th:only-of-type {\n        vertical-align: middle;\n    }\n\n    .dataframe tbody tr th {\n        vertical-align: top;\n    }\n\n    .dataframe thead th {\n        text-align: right;\n    }\n</style>\n<table border=\"1\" class=\"dataframe\">\n  <thead>\n    <tr style=\"text-align: right;\">\n      <th></th>\n      <th>Fish_type</th>\n      <th>Location_name</th>\n      <th>latitude</th>\n      <th>longitude</th>\n    </tr>\n  </thead>\n  <tbody>\n    <tr>\n      <th>0</th>\n      <td>unknown</td>\n      <td>S/S Hugo Stinnes</td>\n      <td>56.423056</td>\n      <td>8.164722</td>\n    </tr>\n    <tr>\n      <th>1</th>\n      <td>unknown</td>\n      <td>Lille vrag NV Hugo Stinnes</td>\n      <td>56.583056</td>\n      <td>8.274444</td>\n    </tr>\n    <tr>\n      <th>2</th>\n      <td>unknown</td>\n      <td>Stenpolle med rester af et flyvrag</td>\n      <td>56.405278</td>\n      <td>7.957222</td>\n    </tr>\n    <tr>\n      <th>3</th>\n      <td>unknown</td>\n      <td>Stentop</td>\n      <td>56.541667</td>\n      <td>8.130556</td>\n    </tr>\n    <tr>\n      <th>4</th>\n      <td>unknown</td>\n      <td>Stendys</td>\n      <td>56.422222</td>\n      <td>7.921944</td>\n    </tr>\n    <tr>\n      <th>5</th>\n      <td>unknown</td>\n      <td>Ballaststen fra sejlskib</td>\n      <td>56.425000</td>\n      <td>7.903889</td>\n    </tr>\n    <tr>\n      <th>6</th>\n      <td>unknown</td>\n      <td>Hummer sten</td>\n      <td>56.550556</td>\n      <td>7.920278</td>\n    </tr>\n    <tr>\n      <th>7</th>\n      <td>unknown</td>\n      <td>Brostensvrag norsk Glitne</td>\n      <td>56.688889</td>\n      <td>8.158333</td>\n    </tr>\n    <tr>\n      <th>8</th>\n      <td>unknown</td>\n      <td>Jernpram med spil</td>\n      <td>56.497222</td>\n      <td>7.488889</td>\n    </tr>\n    <tr>\n      <th>9</th>\n      <td>unknown</td>\n      <td>Verdens største flydekran da den sank lige eft...</td>\n      <td>56.652778</td>\n      <td>7.211111</td>\n    </tr>\n    <tr>\n      <th>10</th>\n      <td>unknown</td>\n      <td>Fragtskib Helene B Schub</td>\n      <td>56.472222</td>\n      <td>7.108333</td>\n    </tr>\n    <tr>\n      <th>11</th>\n      <td>unknown</td>\n      <td>Vrag af dampskib</td>\n      <td>56.597222</td>\n      <td>7.386111</td>\n    </tr>\n    <tr>\n      <th>12</th>\n      <td>unknown</td>\n      <td>Dampskib Sorento</td>\n      <td>56.408333</td>\n      <td>7.386111</td>\n    </tr>\n    <tr>\n      <th>13</th>\n      <td>unknown</td>\n      <td>Stor coaster med bund opad</td>\n      <td>56.443056</td>\n      <td>7.300556</td>\n    </tr>\n    <tr>\n      <th>14</th>\n      <td>unknown</td>\n      <td>Dampskib Hermod</td>\n      <td>56.794167</td>\n      <td>7.566111</td>\n    </tr>\n    <tr>\n      <th>15</th>\n      <td>unknown</td>\n      <td>Råjernsvrag</td>\n      <td>56.889167</td>\n      <td>7.685000</td>\n    </tr>\n    <tr>\n      <th>16</th>\n      <td>unknown</td>\n      <td>Ukendt vrag</td>\n      <td>56.250000</td>\n      <td>8.091667</td>\n    </tr>\n    <tr>\n      <th>17</th>\n      <td>unknown</td>\n      <td>Ukendt hold</td>\n      <td>56.350278</td>\n      <td>8.051667</td>\n    </tr>\n    <tr>\n      <th>18</th>\n      <td>unknown</td>\n      <td>Ukendt hold</td>\n      <td>56.278056</td>\n      <td>8.201667</td>\n    </tr>\n  </tbody>\n</table>\n</div>"
     },
     "metadata": {},
     "execution_count": 117
    }
   ],
   "source": [
    "df_dir['latitude'] = df_dir['latitude'].apply(lambda x: dms_to_dd_dir(x))\n",
    "df_dir['longitude'] = df_dir['longitude'].apply(lambda x: dms_to_dd_dir(x))\n",
    "df_dir"
   ]
  },
  {
   "cell_type": "code",
   "execution_count": 118,
   "metadata": {},
   "outputs": [],
   "source": [
    "df = df.append(df_dir, ignore_index=True)\n",
    "df.to_csv('./output/fishdata_dd.csv', index=False)"
   ]
  }
 ],
 "metadata": {
  "kernelspec": {
   "display_name": "Python 3",
   "language": "python",
   "name": "python3"
  },
  "language_info": {
   "codemirror_mode": {
    "name": "ipython",
    "version": 3
   },
   "file_extension": ".py",
   "mimetype": "text/x-python",
   "name": "python",
   "nbconvert_exporter": "python",
   "pygments_lexer": "ipython3",
   "version": "3.7.7-final"
  }
 },
 "nbformat": 4,
 "nbformat_minor": 4
}