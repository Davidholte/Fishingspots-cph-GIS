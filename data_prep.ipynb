{
 "cells": [
  {
   "cell_type": "code",
   "execution_count": 1,
   "metadata": {},
   "outputs": [],
   "source": [
    "import pandas as pd\n",
    "import csv\n",
    "import re"
   ]
  },
  {
   "cell_type": "markdown",
   "metadata": {},
   "source": [
    "# Function Declarations"
   ]
  },
  {
   "cell_type": "code",
   "execution_count": 2,
   "metadata": {},
   "outputs": [],
   "source": [
    "def parse_file(csv_filename, file_path):\n",
    "    \"\"\"\n",
    "    Creates a CSV file and parses a text file line-by-line and inserts in comma separated format.\n",
    "\n",
    "    Args:\n",
    "    - csv_filename: path to csv file (string)\n",
    "    - file_path: text file to parse (string)\n",
    "    \"\"\"\n",
    "    data_file = open(csv_filename, 'w')\n",
    "    csv_writer = csv.writer(data_file, delimiter=\",\")\n",
    "\n",
    "    with open(file_path) as txt_file:\n",
    "        \n",
    "        for line in txt_file:\n",
    "            csv_writer.writerow(line.split())\n",
    "        \n",
    "        data_file.close()\n",
    "\n",
    "\n",
    "def dms_to_dd(dms):\n",
    "    \"\"\"\n",
    "    Converts DMS (Degree Minutes Seconds) coordinates separated by \".\" and converts it into DD (decimal Degress) format.\n",
    "\n",
    "    Args:\n",
    "    - DMS formatted coordinate (string)\n",
    "    \"\"\"\n",
    "    parts = re.split('[\\.\"]+', dms) # create list by splitting at \".\"\n",
    "    degrees = parts[0]\n",
    "    minutes = parts[1]\n",
    "    seconds = parts[2]\n",
    "    dd = float(degrees) + float(minutes)/60 + float(seconds)/36000\n",
    "    return dd\n",
    "\n",
    "\n",
    "def dd_to_dms(deg):\n",
    "    \"\"\"\n",
    "    Converts DD (decimal Degress) into DMS (Degree Minutes Seconds) coordinates format.\n",
    "\n",
    "    Args:\n",
    "    - DD formatted coordinate (float)\n",
    "    \"\"\"\n",
    "    d = int(deg)\n",
    "    md = abs(deg - d) * 60\n",
    "    m = int(md)\n",
    "    sd = (md - m) * 60\n",
    "    return [d, m, sd]\n",
    "\n",
    "\n",
    "def dms_to_dd_dir():\n",
    "    \"\"\"\n",
    "    Converts DMS (Degree Minutes Seconds) coordinates separated by \".\" and converts it into DD (decimal Degress) format.\n",
    "    Supports direction.\n",
    "\n",
    "    Args:\n",
    "    - DMS formatted coordinate (string)\n",
    "    \"\"\"\n",
    "    parts = re.split('[^\\d\\w]+', dms)\n",
    "    parts[0] = degrees\n",
    "    parts[1] = minutes\n",
    "    parts[2] = seconds\n",
    "    parts[3] = direction\n",
    "    dd = float(degrees) + float(minutes)/60 + float(seconds)/(60*60);\n",
    "    if direction == 'S' or direction == 'W':\n",
    "        dd *= -1\n",
    "    return dd;\n",
    "\n",
    "\n",
    "def dd_to_dms_dir(deg):\n",
    "    \"\"\"\n",
    "    Converts DD (decimal Degress) into DMS (Degree Minutes Seconds) coordinates format. \n",
    "    Supports direction.\n",
    "\n",
    "    Args:\n",
    "    - DD formatted coordinate (float)\n",
    "    \"\"\"\n",
    "    d = int(deg)\n",
    "    md = abs(deg - d) * 60\n",
    "    m = int(md)\n",
    "    sd = (md - m) * 60\n",
    "    return [d, m, sd]"
   ]
  },
  {
   "cell_type": "code",
   "execution_count": 3,
   "metadata": {},
   "outputs": [],
   "source": [
    "parse_file('fishdata_dms.csv', 'preformatted_data.txt')"
   ]
  },
  {
   "cell_type": "code",
   "execution_count": 5,
   "metadata": {},
   "outputs": [],
   "source": [
    "df = pd.read_csv('fishdata_dms.csv')"
   ]
  },
  {
   "cell_type": "code",
   "execution_count": 6,
   "metadata": {},
   "outputs": [
    {
     "output_type": "execute_result",
     "data": {
      "text/plain": "         Fish_type   Location_name   latitude  longitude\n0    Bornholm_Laks         31’eren  55.408333  14.986111\n1    Bornholm_Laks     Anders_Sten  55.572222  15.150000\n2    Bornholm_Laks    Davids_Banke  55.366667  14.683333\n3    Bornholm_Laks     Don’s_Knold  55.444444  14.902778\n4    Bornholm_Laks  Gravstenen_øst  55.483333  14.925000\n..             ...             ...        ...        ...\n344        unknown      Mittelsten  55.602222  14.651944\n345        unknown           Ruski  55.601111  14.616667\n346        unknown      Synrenabbe  55.519444  14.800000\n347        unknown      Synrenabbe  55.551389  14.617222\n348        unknown   Agersø_(Vrag)  55.191972  11.225778\n\n[349 rows x 4 columns]",
      "text/html": "<div>\n<style scoped>\n    .dataframe tbody tr th:only-of-type {\n        vertical-align: middle;\n    }\n\n    .dataframe tbody tr th {\n        vertical-align: top;\n    }\n\n    .dataframe thead th {\n        text-align: right;\n    }\n</style>\n<table border=\"1\" class=\"dataframe\">\n  <thead>\n    <tr style=\"text-align: right;\">\n      <th></th>\n      <th>Fish_type</th>\n      <th>Location_name</th>\n      <th>latitude</th>\n      <th>longitude</th>\n    </tr>\n  </thead>\n  <tbody>\n    <tr>\n      <th>0</th>\n      <td>Bornholm_Laks</td>\n      <td>31’eren</td>\n      <td>55.408333</td>\n      <td>14.986111</td>\n    </tr>\n    <tr>\n      <th>1</th>\n      <td>Bornholm_Laks</td>\n      <td>Anders_Sten</td>\n      <td>55.572222</td>\n      <td>15.150000</td>\n    </tr>\n    <tr>\n      <th>2</th>\n      <td>Bornholm_Laks</td>\n      <td>Davids_Banke</td>\n      <td>55.366667</td>\n      <td>14.683333</td>\n    </tr>\n    <tr>\n      <th>3</th>\n      <td>Bornholm_Laks</td>\n      <td>Don’s_Knold</td>\n      <td>55.444444</td>\n      <td>14.902778</td>\n    </tr>\n    <tr>\n      <th>4</th>\n      <td>Bornholm_Laks</td>\n      <td>Gravstenen_øst</td>\n      <td>55.483333</td>\n      <td>14.925000</td>\n    </tr>\n    <tr>\n      <th>...</th>\n      <td>...</td>\n      <td>...</td>\n      <td>...</td>\n      <td>...</td>\n    </tr>\n    <tr>\n      <th>344</th>\n      <td>unknown</td>\n      <td>Mittelsten</td>\n      <td>55.602222</td>\n      <td>14.651944</td>\n    </tr>\n    <tr>\n      <th>345</th>\n      <td>unknown</td>\n      <td>Ruski</td>\n      <td>55.601111</td>\n      <td>14.616667</td>\n    </tr>\n    <tr>\n      <th>346</th>\n      <td>unknown</td>\n      <td>Synrenabbe</td>\n      <td>55.519444</td>\n      <td>14.800000</td>\n    </tr>\n    <tr>\n      <th>347</th>\n      <td>unknown</td>\n      <td>Synrenabbe</td>\n      <td>55.551389</td>\n      <td>14.617222</td>\n    </tr>\n    <tr>\n      <th>348</th>\n      <td>unknown</td>\n      <td>Agersø_(Vrag)</td>\n      <td>55.191972</td>\n      <td>11.225778</td>\n    </tr>\n  </tbody>\n</table>\n<p>349 rows × 4 columns</p>\n</div>"
     },
     "metadata": {},
     "execution_count": 6
    }
   ],
   "source": [
    "df['latitude'] = df['latitude'].apply(lambda x: dms_to_dd(x))\n",
    "df['longitude'] = df['longitude'].apply(lambda x: dms_to_dd(x))\n",
    "df"
   ]
  },
  {
   "cell_type": "code",
   "execution_count": 7,
   "metadata": {},
   "outputs": [],
   "source": [
    "output = df.to_csv('fishdata_dd.csv', index=False)"
   ]
  }
 ],
 "metadata": {
  "kernelspec": {
   "display_name": "Python 3",
   "language": "python",
   "name": "python3"
  },
  "language_info": {
   "codemirror_mode": {
    "name": "ipython",
    "version": 3
   },
   "file_extension": ".py",
   "mimetype": "text/x-python",
   "name": "python",
   "nbconvert_exporter": "python",
   "pygments_lexer": "ipython3",
   "version": "3.7.7-final"
  }
 },
 "nbformat": 4,
 "nbformat_minor": 4
}